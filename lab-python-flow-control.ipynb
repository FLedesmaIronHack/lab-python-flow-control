{
 "cells": [
  {
   "cell_type": "code",
   "execution_count": null,
   "id": "824a2a0e",
   "metadata": {
    "tags": []
   },
   "outputs": [],
   "source": [
    "# Lab | Flow Control"
   ]
  },
  {
   "cell_type": "raw",
   "id": "c6790918",
   "metadata": {},
   "source": [
    "# Exercise: Managing Customer Orders Optimized\n",
    "\n",
    "In the last lab, you were starting an online store that sells various products. To ensure smooth operations, you developed a program that manages customer orders and inventory.\n",
    "\n",
    "You did so without using flow control. Let's go a step further and improve this code.\n",
    "\n",
    "Follow the steps below to complete the exercise:\n",
    "\n",
    "1. Look at your code from the lab data structures, and improve repeated code with loops.\n",
    "\n",
    "2. Instead of asking the user to input the name of three products that a customer wants to order, do the following:\n",
    "    \n",
    "    a. Prompt the user to enter the name of a product that a customer wants to order.\n",
    "    \n",
    "    b. Add the product name to the \"customer_orders\" set.\n",
    "    \n",
    "    c. Ask the user if they want to add another product (yes/no).\n",
    "    \n",
    "    d. Continue the loop until the user does not want to add another product.\n",
    "\n",
    "3. Instead of updating the inventory by subtracting 1 from the quantity of each product, only do it for  the products that were ordered (those in \"customer_orders\")."
   ]
  },
  {
   "cell_type": "code",
   "execution_count": 21,
   "id": "5e6d9345",
   "metadata": {},
   "outputs": [
    {
     "name": "stdout",
     "output_type": "stream",
     "text": [
      "Sorry, we don't have enough stock for that product, our current stock for the product 'mug' is: 5\n",
      "{'book': 2, 'hat': 1}\n"
     ]
    }
   ],
   "source": [
    "products = [\"t-shirt\", \"mug\", \"hat\", \"book\", \"keychain\"]\n",
    "inventory={}\n",
    "\n",
    "for item in products:\n",
    "    inventory [item]=int(input(\"Enter the quantity of '\" + item + \"': \"))\n",
    "\n",
    "\n",
    "Question=input(\"Do you want to order a product? (yes/no)\")\n",
    "\n",
    "customer_orders={}\n",
    "\n",
    "if Question=='yes':\n",
    "    while Question=='yes':\n",
    "        product_name=input(\"Enter the name of the product you want to order: \")\n",
    "        if product_name in inventory:\n",
    "            quantity=int(input(\"Enter the quantity of '\" + product_name + \"': \"))\n",
    "            if quantity > inventory[product_name]:\n",
    "                print(\"Sorry, we don't have enough stock for that product, our current stock for the product '\" + product_name + \"' is: \" + str(inventory[product_name]))\n",
    "            else:\n",
    "                customer_orders[product_name]=quantity\n",
    "        Question=input(\"Do you want to order another product? (yes/no)\")\n",
    "\n",
    "\n",
    "print (customer_orders)\n",
    "\n"
   ]
  },
  {
   "cell_type": "code",
   "execution_count": 22,
   "id": "7abbfeff",
   "metadata": {},
   "outputs": [
    {
     "name": "stdout",
     "output_type": "stream",
     "text": [
      "Order Statistics:\n",
      "Total Products Ordered: 3\n",
      "Percentage of Products Ordered: {'book': 40.0, 'hat': 20.0}\n"
     ]
    }
   ],
   "source": [
    "Total_Products_Ordered = sum(customer_orders.values())\n",
    "# Percentage_of_Products_Ordered = (len(customer_orders)/sum(inventory.values()))*100\n",
    "Percentage_of_ordered_per_product={}\n",
    "\n",
    "for item in customer_orders:\n",
    "    Percentage_of_ordered_per_product[item]=(customer_orders[item]/inventory[item])*100\n",
    "\n",
    "print('Order Statistics:')\n",
    "print('Total Products Ordered: '+ str(Total_Products_Ordered))\n",
    "print('Percentage of Products Ordered: '+ str(Percentage_of_ordered_per_product))\n",
    "\n",
    "customer_order_list=[]\n",
    "customer_order_list=list(customer_orders)"
   ]
  },
  {
   "cell_type": "code",
   "execution_count": 19,
   "id": "f9d9902f",
   "metadata": {},
   "outputs": [
    {
     "name": "stdout",
     "output_type": "stream",
     "text": [
      "{'t-shirt': 5, 'mug': 5, 'hat': 5, 'book': 5, 'keychain': 5}\n",
      "{'t-shirt': 5, 'mug': 1, 'hat': 3, 'book': 4, 'keychain': 5}\n"
     ]
    }
   ],
   "source": [
    "\n",
    "for item in customer_orders:\n",
    "    if item in inventory:\n",
    "        inventory[item] -= customer_orders[item]\n",
    "\n",
    "print(inventory)\n",
    "\n",
    "\n"
   ]
  }
 ],
 "metadata": {
  "kernelspec": {
   "display_name": "Python 3 (ipykernel)",
   "language": "python",
   "name": "python3"
  },
  "language_info": {
   "codemirror_mode": {
    "name": "ipython",
    "version": 3
   },
   "file_extension": ".py",
   "mimetype": "text/x-python",
   "name": "python",
   "nbconvert_exporter": "python",
   "pygments_lexer": "ipython3",
   "version": "3.11.7"
  }
 },
 "nbformat": 4,
 "nbformat_minor": 5
}
